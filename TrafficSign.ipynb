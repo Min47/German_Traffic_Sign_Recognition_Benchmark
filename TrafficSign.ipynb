{
  "nbformat": 4,
  "nbformat_minor": 0,
  "metadata": {
    "colab": {
      "provenance": [],
      "authorship_tag": "ABX9TyPbzdssi1vBvvyf0msJcJq+",
      "include_colab_link": true
    },
    "kernelspec": {
      "name": "python3",
      "display_name": "Python 3"
    },
    "language_info": {
      "name": "python"
    },
    "accelerator": "GPU",
    "gpuClass": "standard"
  },
  "cells": [
    {
      "cell_type": "markdown",
      "metadata": {
        "id": "view-in-github",
        "colab_type": "text"
      },
      "source": [
        "<a href=\"https://colab.research.google.com/github/Min47/German_Traffic_Sign_Recognition_Benchmark/blob/main/TrafficSign.ipynb\" target=\"_parent\"><img src=\"https://colab.research.google.com/assets/colab-badge.svg\" alt=\"Open In Colab\"/></a>"
      ]
    },
    {
      "cell_type": "markdown",
      "source": [
        "# **Part 1: Import Libraries**"
      ],
      "metadata": {
        "id": "ULn5QdqJ1Hw-"
      }
    },
    {
      "cell_type": "code",
      "source": [
        "# Basic libraries\n",
        "import numpy as np\n",
        "import pandas as pd\n",
        "import matplotlib.pyplot as plt\n",
        "\n",
        "# Sklearn\n",
        "from sklearn.model_selection import train_test_split\n",
        "\n",
        "# Tensorflow\n",
        "import tensorflow as tf\n",
        "\n",
        "## For one-hot encoding\n",
        "from tensorflow.keras.utils import to_categorical\n",
        "\n",
        "## The Sequential and load_model classes from this module are used to define and load a sequential model in TensorFlow. \n",
        "## A sequential model is a linear stack of layers, where the output of each layer is fed as input to the next layer. \n",
        "## In this code, a sequential model is defined with a series of convolutional, max pooling, dense, and dropout layers.\n",
        "from tensorflow.keras.models import Sequential, load_model\n",
        "\n",
        "## Used to define the architecture of the CNN model. \n",
        "## These layers are common building blocks for CNNs used in image classification.\n",
        "## The 'Dropout' layer is used to regularize the model and prevent overfitting.\n",
        "from tensorflow.keras.layers import Conv2D, MaxPool2D, Dense, Flatten, Dropout \n",
        "\n",
        "# OpenCV\n",
        "import cv2 # Used for reading and preprocessing images from the dataset.\n",
        "\n",
        "# Python Imaging Library (PIL)\n",
        "from PIL import Image  # A library for opening, manipulating, and saving many different image file formats. \n",
        "                       # In this code, the 'Image' module from PIL is used for resizing images.\n",
        "\n",
        "# File reading\n",
        "import os # Used for reading the directory containing the images in the dataset."
      ],
      "metadata": {
        "id": "4wRoePrKzNo9"
      },
      "execution_count": 27,
      "outputs": []
    }
  ]
}